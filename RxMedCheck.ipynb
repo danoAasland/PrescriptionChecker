{
  "nbformat": 4,
  "nbformat_minor": 0,
  "metadata": {
    "colab": {
      "name": "RxMedCheck",
      "provenance": [],
      "collapsed_sections": [],
      "authorship_tag": "ABX9TyP/umDs1rtPpjNz+0Toyu15",
      "include_colab_link": true
    },
    "kernelspec": {
      "name": "python3",
      "display_name": "Python 3"
    }
  },
  "cells": [
    {
      "cell_type": "markdown",
      "metadata": {
        "id": "view-in-github",
        "colab_type": "text"
      },
      "source": [
        "<a href=\"https://colab.research.google.com/github/danoAasland/PrescriptionChecker/blob/master/RxMedCheck.ipynb\" target=\"_parent\"><img src=\"https://colab.research.google.com/assets/colab-badge.svg\" alt=\"Open In Colab\"/></a>"
      ]
    },
    {
      "cell_type": "code",
      "metadata": {
        "id": "xG_rdtbUwnVK",
        "colab_type": "code",
        "colab": {
          "base_uri": "https://localhost:8080/",
          "height": 151
        },
        "outputId": "7959b493-66e5-44a4-c069-3939c7e2b947"
      },
      "source": [
        "#Installs to local env\n",
        "!pip install kmodes"
      ],
      "execution_count": 3,
      "outputs": [
        {
          "output_type": "stream",
          "text": [
            "Collecting kmodes\n",
            "  Downloading https://files.pythonhosted.org/packages/79/c0/f7d8a0eb41ac6f302b4bc100f91b6e0f2558425ccfefaa0ec0430f77ee97/kmodes-0.10.1-py2.py3-none-any.whl\n",
            "Requirement already satisfied: scipy>=0.13.3 in /usr/local/lib/python3.6/dist-packages (from kmodes) (1.4.1)\n",
            "Requirement already satisfied: numpy>=1.10.4 in /usr/local/lib/python3.6/dist-packages (from kmodes) (1.17.5)\n",
            "Requirement already satisfied: scikit-learn>=0.19.0 in /usr/local/lib/python3.6/dist-packages (from kmodes) (0.22.1)\n",
            "Requirement already satisfied: joblib>=0.11 in /usr/local/lib/python3.6/dist-packages (from kmodes) (0.14.1)\n",
            "Installing collected packages: kmodes\n",
            "Successfully installed kmodes-0.10.1\n"
          ],
          "name": "stdout"
        }
      ]
    },
    {
      "cell_type": "code",
      "metadata": {
        "id": "N7BrDncgz2m6",
        "colab_type": "code",
        "colab": {}
      },
      "source": [
        "#Packages\n",
        "import warnings\n",
        "import pandas as pd\n",
        "import numpy as np\n",
        "import matplotlib.pyplot as plt\n",
        "from kmodes.kmodes import KModes\n",
        "from kmodes.kprototypes import KPrototypes\n",
        "from sklearn.neighbors import LocalOutlierFactor\n",
        "import seaborn as sns\n",
        "from google.colab import files\n",
        "import io\n",
        "\n",
        "#set graphs to plot within env and supress any warnings\n",
        "%matplotlib inline\n",
        "warnings.filterwarnings('ignore')\n",
        "\n",
        "#Aesthetics\n",
        "#set font type\n",
        "from matplotlib import rcParams\n",
        "rcParams['font.family'] = 'monospace'\n",
        "#set style of graphs\n",
        "plt.style.use('fivethirtyeight')\n",
        "sns.set(rc={'figure.figsize':(12, 6)})"
      ],
      "execution_count": 0,
      "outputs": []
    },
    {
      "cell_type": "markdown",
      "metadata": {
        "id": "GvSyZy3r8NXW",
        "colab_type": "text"
      },
      "source": [
        "**IMPORT DATA**\n"
      ]
    },
    {
      "cell_type": "code",
      "metadata": {
        "id": "1wD3Xi2h2-QU",
        "colab_type": "code",
        "colab": {}
      },
      "source": [
        "#Save patient encounters data to dataframe\n",
        "url = 'https://raw.githubusercontent.com/danoAasland/PrescriptionChecker/master/EMR_Data/encounters.csv'\n",
        "encounterDF = pd.read_csv(url)"
      ],
      "execution_count": 0,
      "outputs": []
    },
    {
      "cell_type": "code",
      "metadata": {
        "id": "rmLjqtRp3LJs",
        "colab_type": "code",
        "colab": {}
      },
      "source": [
        "#Save patient medications data to dataframe\n",
        "url = 'https://raw.githubusercontent.com/danoAasland/PrescriptionChecker/master/EMR_Data/medications.csv'\n",
        "medDF = pd.read_csv(url)"
      ],
      "execution_count": 0,
      "outputs": []
    },
    {
      "cell_type": "code",
      "metadata": {
        "id": "kKhi1L9b3dnp",
        "colab_type": "code",
        "colab": {}
      },
      "source": [
        "#Save patient demographics data to dataframe\n",
        "url = 'https://raw.githubusercontent.com/danoAasland/PrescriptionChecker/master/EMR_Data/patients.csv'\n",
        "patientsDF = pd.read_csv(url)"
      ],
      "execution_count": 0,
      "outputs": []
    },
    {
      "cell_type": "code",
      "metadata": {
        "id": "hpoQizIN3yrC",
        "colab_type": "code",
        "colab": {}
      },
      "source": [
        "#Save patient procedures data to dataframe\n",
        "url = 'https://raw.githubusercontent.com/danoAasland/PrescriptionChecker/master/EMR_Data/procedures.csv'\n",
        "procedureDF = pd.read_csv(url)"
      ],
      "execution_count": 0,
      "outputs": []
    },
    {
      "cell_type": "code",
      "metadata": {
        "id": "D9LLDD5m78TP",
        "colab_type": "code",
        "colab": {}
      },
      "source": [
        "#Save patient allergies data to dataframe\n",
        "url = 'https://raw.githubusercontent.com/danoAasland/PrescriptionChecker/master/EMR_Data/allergies.csv'\n",
        "allergiesDF = pd.read_csv(url)"
      ],
      "execution_count": 0,
      "outputs": []
    },
    {
      "cell_type": "markdown",
      "metadata": {
        "id": "1XxREULa8WIH",
        "colab_type": "text"
      },
      "source": [
        "**DATA INSPECTION/EVALUATION**\n"
      ]
    },
    {
      "cell_type": "code",
      "metadata": {
        "id": "aEvwy-6q8IyT",
        "colab_type": "code",
        "colab": {
          "base_uri": "https://localhost:8080/",
          "height": 34
        },
        "outputId": "a573cba3-c703-4f27-bdde-ca218d4ed002"
      },
      "source": [
        "#encounters data\n",
        "encounterDF.shape"
      ],
      "execution_count": 10,
      "outputs": [
        {
          "output_type": "execute_result",
          "data": {
            "text/plain": [
              "(46868, 14)"
            ]
          },
          "metadata": {
            "tags": []
          },
          "execution_count": 10
        }
      ]
    },
    {
      "cell_type": "code",
      "metadata": {
        "id": "X_8Cdcod8vPe",
        "colab_type": "code",
        "colab": {}
      },
      "source": [
        "#uncomment to run\n",
        "#encounterDF.info()"
      ],
      "execution_count": 0,
      "outputs": []
    },
    {
      "cell_type": "code",
      "metadata": {
        "id": "c7fO8tZl8yvd",
        "colab_type": "code",
        "colab": {}
      },
      "source": [
        "#uncomment to run\n",
        "#encounterDF.describe(include='all')"
      ],
      "execution_count": 0,
      "outputs": []
    },
    {
      "cell_type": "code",
      "metadata": {
        "id": "mk7xqNnq_J17",
        "colab_type": "code",
        "colab": {}
      },
      "source": [
        "#uncomment to run\n",
        "#encounterDF.head(1)"
      ],
      "execution_count": 0,
      "outputs": []
    },
    {
      "cell_type": "code",
      "metadata": {
        "id": "0yMwIahuNXGz",
        "colab_type": "code",
        "colab": {}
      },
      "source": [
        "#convert object to date time format\n",
        "encounterDF['START'] = pd.to_datetime(encounterDF.START, infer_datetime_format=True)"
      ],
      "execution_count": 0,
      "outputs": []
    },
    {
      "cell_type": "code",
      "metadata": {
        "id": "-LZ_5FW_O3KQ",
        "colab_type": "code",
        "colab": {}
      },
      "source": [
        "#convert datetime to date only for encounter date\n",
        "encounterDF['START'] = pd.to_datetime(encounterDF['START']).dt.date"
      ],
      "execution_count": 0,
      "outputs": []
    },
    {
      "cell_type": "code",
      "metadata": {
        "id": "6aPQH4kY82XW",
        "colab_type": "code",
        "colab": {
          "base_uri": "https://localhost:8080/",
          "height": 34
        },
        "outputId": "8d2cf411-706b-4051-88a6-0afcc38e362c"
      },
      "source": [
        "#medications data\n",
        "medDF.shape"
      ],
      "execution_count": 16,
      "outputs": [
        {
          "output_type": "execute_result",
          "data": {
            "text/plain": [
              "(14102, 13)"
            ]
          },
          "metadata": {
            "tags": []
          },
          "execution_count": 16
        }
      ]
    },
    {
      "cell_type": "code",
      "metadata": {
        "id": "Ce9XzIjh9I92",
        "colab_type": "code",
        "colab": {}
      },
      "source": [
        "#uncomment to run\n",
        "#medDF.info()"
      ],
      "execution_count": 0,
      "outputs": []
    },
    {
      "cell_type": "code",
      "metadata": {
        "id": "AY1Ibc5T9KqN",
        "colab_type": "code",
        "colab": {}
      },
      "source": [
        "#uncomment to run\n",
        "#medDF.describe(include='all')"
      ],
      "execution_count": 0,
      "outputs": []
    },
    {
      "cell_type": "code",
      "metadata": {
        "id": "_uJgsvp7ETKY",
        "colab_type": "code",
        "colab": {}
      },
      "source": [
        "#uncomment to run\n",
        "#medDF.head()"
      ],
      "execution_count": 0,
      "outputs": []
    },
    {
      "cell_type": "code",
      "metadata": {
        "id": "hiPATpnbPrAA",
        "colab_type": "code",
        "colab": {}
      },
      "source": [
        "#convert start date column to date format\n",
        "medDF['START'] = pd.to_datetime(medDF.START, infer_datetime_format=True)"
      ],
      "execution_count": 0,
      "outputs": []
    },
    {
      "cell_type": "code",
      "metadata": {
        "id": "FH1UlJMG9MaU",
        "colab_type": "code",
        "colab": {
          "base_uri": "https://localhost:8080/",
          "height": 34
        },
        "outputId": "787afa13-e0e3-43c3-82ca-c47ceb823ee9"
      },
      "source": [
        "#patients demogrpahics data\n",
        "patientsDF.shape"
      ],
      "execution_count": 22,
      "outputs": [
        {
          "output_type": "execute_result",
          "data": {
            "text/plain": [
              "(1180, 25)"
            ]
          },
          "metadata": {
            "tags": []
          },
          "execution_count": 22
        }
      ]
    },
    {
      "cell_type": "code",
      "metadata": {
        "id": "vmKWSsce9XMO",
        "colab_type": "code",
        "colab": {}
      },
      "source": [
        "#uncomment to run\n",
        "#patientsDF.info()"
      ],
      "execution_count": 0,
      "outputs": []
    },
    {
      "cell_type": "code",
      "metadata": {
        "id": "NrBeWkH_9aTx",
        "colab_type": "code",
        "colab": {}
      },
      "source": [
        "#uncomment to run\n",
        "#patientsDF.describe(include='all')"
      ],
      "execution_count": 0,
      "outputs": []
    },
    {
      "cell_type": "code",
      "metadata": {
        "id": "LkUh4ZUjEYJ3",
        "colab_type": "code",
        "colab": {}
      },
      "source": [
        "#uncomment to run\n",
        "#patientsDF.head(1)"
      ],
      "execution_count": 0,
      "outputs": []
    },
    {
      "cell_type": "code",
      "metadata": {
        "id": "zoEqweMwctKL",
        "colab_type": "code",
        "colab": {}
      },
      "source": [
        "#convert birthdate column to date format\n",
        "patientsDF['BIRTHDATE'] = pd.to_datetime(patientsDF.BIRTHDATE, infer_datetime_format=True)"
      ],
      "execution_count": 0,
      "outputs": []
    },
    {
      "cell_type": "code",
      "metadata": {
        "id": "3m8fD22o9clC",
        "colab_type": "code",
        "colab": {
          "base_uri": "https://localhost:8080/",
          "height": 34
        },
        "outputId": "c239b6f2-7114-43ff-9cfe-1514012232cf"
      },
      "source": [
        "#patient procedures data\n",
        "procedureDF.shape"
      ],
      "execution_count": 27,
      "outputs": [
        {
          "output_type": "execute_result",
          "data": {
            "text/plain": [
              "(36451, 8)"
            ]
          },
          "metadata": {
            "tags": []
          },
          "execution_count": 27
        }
      ]
    },
    {
      "cell_type": "code",
      "metadata": {
        "id": "iS0nrbb79ksj",
        "colab_type": "code",
        "colab": {}
      },
      "source": [
        "#uncomment to run\n",
        "#procedureDF.info()"
      ],
      "execution_count": 0,
      "outputs": []
    },
    {
      "cell_type": "code",
      "metadata": {
        "id": "5t1wszLA9mBK",
        "colab_type": "code",
        "colab": {}
      },
      "source": [
        "#uncomment to run\n",
        "#procedureDF.describe(include='all')"
      ],
      "execution_count": 0,
      "outputs": []
    },
    {
      "cell_type": "code",
      "metadata": {
        "id": "IOaczrk6EcHz",
        "colab_type": "code",
        "colab": {}
      },
      "source": [
        "#uncomment to run\n",
        "#procedureDF.head()"
      ],
      "execution_count": 0,
      "outputs": []
    },
    {
      "cell_type": "code",
      "metadata": {
        "id": "4Nu3ZEVuP_5v",
        "colab_type": "code",
        "colab": {}
      },
      "source": [
        "#convert date column to date format\n",
        "procedureDF['DATE'] = pd.to_datetime(procedureDF.DATE, infer_datetime_format=True)"
      ],
      "execution_count": 0,
      "outputs": []
    },
    {
      "cell_type": "code",
      "metadata": {
        "id": "HuhuipSv9n1g",
        "colab_type": "code",
        "colab": {
          "base_uri": "https://localhost:8080/",
          "height": 34
        },
        "outputId": "01fea567-4190-4b02-db4c-4bebff7a35c8"
      },
      "source": [
        "#patients allergies data\n",
        "allergiesDF.shape"
      ],
      "execution_count": 32,
      "outputs": [
        {
          "output_type": "execute_result",
          "data": {
            "text/plain": [
              "(567, 6)"
            ]
          },
          "metadata": {
            "tags": []
          },
          "execution_count": 32
        }
      ]
    },
    {
      "cell_type": "code",
      "metadata": {
        "id": "Nh38YoNJ9sBV",
        "colab_type": "code",
        "colab": {}
      },
      "source": [
        "#uncomment to run\n",
        "#allergiesDF.info()"
      ],
      "execution_count": 0,
      "outputs": []
    },
    {
      "cell_type": "code",
      "metadata": {
        "id": "2PPoaFt59taZ",
        "colab_type": "code",
        "colab": {}
      },
      "source": [
        "#uncomment to run\n",
        "#allergiesDF.describe(include='all')"
      ],
      "execution_count": 0,
      "outputs": []
    },
    {
      "cell_type": "code",
      "metadata": {
        "id": "rsGIjvvd9ve5",
        "colab_type": "code",
        "colab": {}
      },
      "source": [
        "#uncomment to run\n",
        "#allergiesDF.head()"
      ],
      "execution_count": 0,
      "outputs": []
    },
    {
      "cell_type": "code",
      "metadata": {
        "id": "9kx-QZ9tQZyr",
        "colab_type": "code",
        "colab": {}
      },
      "source": [
        "#convert start date column to date format\n",
        "allergiesDF['START'] = pd.to_datetime(allergiesDF.START, infer_datetime_format=True)"
      ],
      "execution_count": 0,
      "outputs": []
    },
    {
      "cell_type": "code",
      "metadata": {
        "id": "XB8-950-El-i",
        "colab_type": "code",
        "colab": {}
      },
      "source": [
        "#dict allergy [type] by patient\n",
        "allergyByPatient = dict(zip(allergiesDF.PATIENT, allergiesDF.DESCRIPTION))"
      ],
      "execution_count": 0,
      "outputs": []
    },
    {
      "cell_type": "markdown",
      "metadata": {
        "id": "49FPT0WLUgpD",
        "colab_type": "text"
      },
      "source": [
        "**DATA MUNGING**\n"
      ]
    },
    {
      "cell_type": "code",
      "metadata": {
        "id": "5btUtDpWGKfq",
        "colab_type": "code",
        "colab": {}
      },
      "source": [
        "#create copy of DF to be modified later\n",
        "aggEmrDF = medDF.copy()"
      ],
      "execution_count": 0,
      "outputs": []
    },
    {
      "cell_type": "code",
      "metadata": {
        "id": "0RjBOK7VTRtb",
        "colab_type": "code",
        "colab": {}
      },
      "source": [
        "#uncomment to run\n",
        "#aggEmrDF.head()"
      ],
      "execution_count": 0,
      "outputs": []
    },
    {
      "cell_type": "code",
      "metadata": {
        "id": "6wxCnV_-TTwr",
        "colab_type": "code",
        "colab": {}
      },
      "source": [
        "#maps allergies to patient\n",
        "aggEmrDF['ALLERGY'] = aggEmrDF['PATIENT'].map(allergyByPatient)"
      ],
      "execution_count": 0,
      "outputs": []
    },
    {
      "cell_type": "code",
      "metadata": {
        "id": "MEagxHefUJwI",
        "colab_type": "code",
        "colab": {}
      },
      "source": [
        "#if no allergy present replace NaN with NKA\n",
        "aggEmrDF['ALLERGY'] = aggEmrDF.ALLERGY.fillna(value='NKA')"
      ],
      "execution_count": 0,
      "outputs": []
    },
    {
      "cell_type": "code",
      "metadata": {
        "id": "EZ09-pYyUggn",
        "colab_type": "code",
        "colab": {}
      },
      "source": [
        "#remove all non-useful columns\n",
        "aggEmrDF = aggEmrDF.drop(columns=['STOP', 'PAYER', 'CODE', 'BASE_COST', 'PAYER_COVERAGE', 'TOTALCOST', 'REASONCODE', 'REASONDESCRIPTION'])"
      ],
      "execution_count": 0,
      "outputs": []
    },
    {
      "cell_type": "code",
      "metadata": {
        "id": "Cl_7d7OpXlX0",
        "colab_type": "code",
        "colab": {}
      },
      "source": [
        "examReason = dict(zip(encounterDF.Id, encounterDF.REASONDESCRIPTION))"
      ],
      "execution_count": 0,
      "outputs": []
    },
    {
      "cell_type": "code",
      "metadata": {
        "id": "CTR1F39NYgxF",
        "colab_type": "code",
        "colab": {}
      },
      "source": [
        "examType = dict(zip(encounterDF.Id, encounterDF.DESCRIPTION))"
      ],
      "execution_count": 0,
      "outputs": []
    },
    {
      "cell_type": "code",
      "metadata": {
        "id": "yFNNnk4JYo9V",
        "colab_type": "code",
        "colab": {}
      },
      "source": [
        "aggEmrDF['EXAM_REASON'] = aggEmrDF['ENCOUNTER'].map(examReason)"
      ],
      "execution_count": 0,
      "outputs": []
    },
    {
      "cell_type": "code",
      "metadata": {
        "id": "gnkat1JDY5Dg",
        "colab_type": "code",
        "colab": {}
      },
      "source": [
        "aggEmrDF['EXAM_TYPE'] = aggEmrDF['ENCOUNTER'].map(examType)"
      ],
      "execution_count": 0,
      "outputs": []
    },
    {
      "cell_type": "code",
      "metadata": {
        "id": "6hUbQNs-ZDZN",
        "colab_type": "code",
        "colab": {}
      },
      "source": [
        "#if no known exam reason replace NaN with Unknown\n",
        "aggEmrDF['EXAM_REASON'] = aggEmrDF.EXAM_REASON.fillna(value='Unknown')"
      ],
      "execution_count": 0,
      "outputs": []
    },
    {
      "cell_type": "code",
      "metadata": {
        "id": "HUQKcKhydUTF",
        "colab_type": "code",
        "colab": {}
      },
      "source": [
        "patientGender = dict(zip(patientsDF.Id, patientsDF.GENDER))"
      ],
      "execution_count": 0,
      "outputs": []
    },
    {
      "cell_type": "code",
      "metadata": {
        "id": "72bdN9-eZ2mZ",
        "colab_type": "code",
        "colab": {}
      },
      "source": [
        "now = pd.to_datetime('now')\n",
        "#now\n",
        "patientsDF['AGE'] = (now - patientsDF['BIRTHDATE']).astype('<m8[Y]') "
      ],
      "execution_count": 0,
      "outputs": []
    },
    {
      "cell_type": "code",
      "metadata": {
        "id": "w3LZ6FtWdjzS",
        "colab_type": "code",
        "colab": {}
      },
      "source": [
        "patientAge = dict(zip(patientsDF.Id, patientsDF.AGE))"
      ],
      "execution_count": 0,
      "outputs": []
    },
    {
      "cell_type": "code",
      "metadata": {
        "id": "9OEShkvHd5iD",
        "colab_type": "code",
        "colab": {}
      },
      "source": [
        "aggEmrDF['AGE'] = aggEmrDF['PATIENT'].map(patientAge)"
      ],
      "execution_count": 0,
      "outputs": []
    },
    {
      "cell_type": "code",
      "metadata": {
        "id": "llyLLKomeFOV",
        "colab_type": "code",
        "colab": {}
      },
      "source": [
        "aggEmrDF['GENDER'] = aggEmrDF['PATIENT'].map(patientGender)"
      ],
      "execution_count": 0,
      "outputs": []
    },
    {
      "cell_type": "code",
      "metadata": {
        "id": "vN_3CWiUeMwu",
        "colab_type": "code",
        "colab": {}
      },
      "source": [
        "aggEmrDF['AGE'] = aggEmrDF['AGE'].astype(int)"
      ],
      "execution_count": 0,
      "outputs": []
    },
    {
      "cell_type": "code",
      "metadata": {
        "id": "IRu-6c9bXWd6",
        "colab_type": "code",
        "colab": {
          "base_uri": "https://localhost:8080/",
          "height": 279
        },
        "outputId": "6cfb4ba4-7c2c-40f9-d862-113749590f4d"
      },
      "source": [
        "aggEmrDF.head()"
      ],
      "execution_count": 54,
      "outputs": [
        {
          "output_type": "execute_result",
          "data": {
            "text/html": [
              "<div>\n",
              "<style scoped>\n",
              "    .dataframe tbody tr th:only-of-type {\n",
              "        vertical-align: middle;\n",
              "    }\n",
              "\n",
              "    .dataframe tbody tr th {\n",
              "        vertical-align: top;\n",
              "    }\n",
              "\n",
              "    .dataframe thead th {\n",
              "        text-align: right;\n",
              "    }\n",
              "</style>\n",
              "<table border=\"1\" class=\"dataframe\">\n",
              "  <thead>\n",
              "    <tr style=\"text-align: right;\">\n",
              "      <th></th>\n",
              "      <th>START</th>\n",
              "      <th>PATIENT</th>\n",
              "      <th>ENCOUNTER</th>\n",
              "      <th>DESCRIPTION</th>\n",
              "      <th>DISPENSES</th>\n",
              "      <th>ALLERGY</th>\n",
              "      <th>EXAM_REASON</th>\n",
              "      <th>EXAM_TYPE</th>\n",
              "      <th>AGE</th>\n",
              "      <th>GENDER</th>\n",
              "    </tr>\n",
              "  </thead>\n",
              "  <tbody>\n",
              "    <tr>\n",
              "      <th>0</th>\n",
              "      <td>1995-11-16</td>\n",
              "      <td>3603cd65-53a3-424b-bc82-76204326510d</td>\n",
              "      <td>f5ddf34a-85c6-4f03-9c82-34e25fde945d</td>\n",
              "      <td>Amlodipine 5 MG / Hydrochlorothiazide 12.5 MG ...</td>\n",
              "      <td>290</td>\n",
              "      <td>NKA</td>\n",
              "      <td>Unknown</td>\n",
              "      <td>Hypertension follow-up encounter</td>\n",
              "      <td>42</td>\n",
              "      <td>M</td>\n",
              "    </tr>\n",
              "    <tr>\n",
              "      <th>1</th>\n",
              "      <td>2010-02-12</td>\n",
              "      <td>3603cd65-53a3-424b-bc82-76204326510d</td>\n",
              "      <td>ae97dfe0-c619-44c1-a687-f215d7fac984</td>\n",
              "      <td>Acetaminophen 325 MG Oral Tablet</td>\n",
              "      <td>1</td>\n",
              "      <td>NKA</td>\n",
              "      <td>Acute bronchitis (disorder)</td>\n",
              "      <td>Encounter for symptom</td>\n",
              "      <td>42</td>\n",
              "      <td>M</td>\n",
              "    </tr>\n",
              "    <tr>\n",
              "      <th>2</th>\n",
              "      <td>2012-07-08</td>\n",
              "      <td>3603cd65-53a3-424b-bc82-76204326510d</td>\n",
              "      <td>7616a2fe-0ddc-44b4-84ae-1bca998b1c45</td>\n",
              "      <td>Amoxicillin 250 MG / Clavulanate 125 MG Oral T...</td>\n",
              "      <td>1</td>\n",
              "      <td>NKA</td>\n",
              "      <td>Viral sinusitis (disorder)</td>\n",
              "      <td>Encounter for symptom</td>\n",
              "      <td>42</td>\n",
              "      <td>M</td>\n",
              "    </tr>\n",
              "    <tr>\n",
              "      <th>3</th>\n",
              "      <td>2011-03-26</td>\n",
              "      <td>21dd496c-2fec-4c9c-a0fe-c11ad5b2cdea</td>\n",
              "      <td>86d22444-38b4-4481-bc31-8a509a56118b</td>\n",
              "      <td>Cefuroxime 250 MG Oral Tablet</td>\n",
              "      <td>1</td>\n",
              "      <td>NKA</td>\n",
              "      <td>Otitis media</td>\n",
              "      <td>Encounter for symptom</td>\n",
              "      <td>13</td>\n",
              "      <td>M</td>\n",
              "    </tr>\n",
              "    <tr>\n",
              "      <th>4</th>\n",
              "      <td>2011-03-26</td>\n",
              "      <td>21dd496c-2fec-4c9c-a0fe-c11ad5b2cdea</td>\n",
              "      <td>86d22444-38b4-4481-bc31-8a509a56118b</td>\n",
              "      <td>Ibuprofen 100 MG Oral Tablet</td>\n",
              "      <td>1</td>\n",
              "      <td>NKA</td>\n",
              "      <td>Otitis media</td>\n",
              "      <td>Encounter for symptom</td>\n",
              "      <td>13</td>\n",
              "      <td>M</td>\n",
              "    </tr>\n",
              "  </tbody>\n",
              "</table>\n",
              "</div>"
            ],
            "text/plain": [
              "       START                               PATIENT  ... AGE GENDER\n",
              "0 1995-11-16  3603cd65-53a3-424b-bc82-76204326510d  ...  42      M\n",
              "1 2010-02-12  3603cd65-53a3-424b-bc82-76204326510d  ...  42      M\n",
              "2 2012-07-08  3603cd65-53a3-424b-bc82-76204326510d  ...  42      M\n",
              "3 2011-03-26  21dd496c-2fec-4c9c-a0fe-c11ad5b2cdea  ...  13      M\n",
              "4 2011-03-26  21dd496c-2fec-4c9c-a0fe-c11ad5b2cdea  ...  13      M\n",
              "\n",
              "[5 rows x 10 columns]"
            ]
          },
          "metadata": {
            "tags": []
          },
          "execution_count": 54
        }
      ]
    },
    {
      "cell_type": "code",
      "metadata": {
        "id": "mJSk-Ty9eutR",
        "colab_type": "code",
        "colab": {}
      },
      "source": [
        "trainTestRawDF = aggEmrDF[['DESCRIPTION', 'DISPENSES', 'EXAM_REASON', 'EXAM_TYPE', 'AGE', 'GENDER']]"
      ],
      "execution_count": 0,
      "outputs": []
    },
    {
      "cell_type": "code",
      "metadata": {
        "id": "IEx-odn3ztBN",
        "colab_type": "code",
        "colab": {
          "base_uri": "https://localhost:8080/",
          "height": 218
        },
        "outputId": "7e483273-fb32-4d3f-edee-c84e58acd72a"
      },
      "source": [
        "trainTestRawDF.DESCRIPTION.value_counts()"
      ],
      "execution_count": 56,
      "outputs": [
        {
          "output_type": "execute_result",
          "data": {
            "text/plain": [
              "1 ML Epoetin Alfa 4000 UNT/ML Injection [Epogen]    4133\n",
              "Simvistatin 10 MG                                   2306\n",
              "Cisplatin 50 MG Injection                            880\n",
              "PACLitaxel 100 MG Injection                          820\n",
              "Acetaminophen 325 MG Oral Tablet                     622\n",
              "                                                    ... \n",
              "10 ML Pamidronate Disodium 3 MG/ML Injection           1\n",
              "ribociclib 200 MG Oral Tablet                          1\n",
              "Alfentanil                                             1\n",
              "letrozole 2.5 MG Oral Tablet                           1\n",
              "anastrozole 1 MG Oral Tablet                           1\n",
              "Name: DESCRIPTION, Length: 151, dtype: int64"
            ]
          },
          "metadata": {
            "tags": []
          },
          "execution_count": 56
        }
      ]
    },
    {
      "cell_type": "code",
      "metadata": {
        "id": "x9os8XzezzBM",
        "colab_type": "code",
        "colab": {
          "base_uri": "https://localhost:8080/",
          "height": 874
        },
        "outputId": "f2c0863b-ce10-47e1-f5db-f62e7bdf1ca2"
      },
      "source": [
        "trainTestRawDF.EXAM_REASON.value_counts()"
      ],
      "execution_count": 57,
      "outputs": [
        {
          "output_type": "execute_result",
          "data": {
            "text/plain": [
              "Unknown                                                                  9102\n",
              "Hyperlipidemia                                                           2308\n",
              "Acute bronchitis (disorder)                                               555\n",
              "Otitis media                                                              342\n",
              "Viral sinusitis (disorder)                                                242\n",
              "Streptococcal sore throat (disorder)                                      180\n",
              "Chronic congestive heart failure (disorder)                               171\n",
              "Primary small cell malignant neoplasm of lung  TNM stage 1 (disorder)     120\n",
              "Anemia (disorder)                                                         103\n",
              "Childhood asthma                                                          102\n",
              "Chronic pain                                                               80\n",
              "Neoplasm of prostate                                                       76\n",
              "Chronic intractable migraine without aura                                  74\n",
              "Impacted molars                                                            73\n",
              "Osteoarthritis of knee                                                     65\n",
              "Acute Cholecystitis                                                        48\n",
              "Escherichia coli urinary tract infection                                   34\n",
              "Malignant neoplasm of breast (disorder)                                    34\n",
              "Malignant tumor of colon                                                   30\n",
              "Localized  primary osteoarthritis of the hand                              29\n",
              "Cystitis                                                                   25\n",
              "Primary fibromyalgia syndrome                                              25\n",
              "Atopic dermatitis                                                          25\n",
              "Seizure disorder                                                           25\n",
              "Gout                                                                       22\n",
              "Alzheimer's disease (disorder)                                             20\n",
              "Perennial allergic rhinitis                                                18\n",
              "Osteoarthritis of hip                                                      17\n",
              "Acute bacterial sinusitis (disorder)                                       16\n",
              "Sinusitis (disorder)                                                       14\n",
              "Posttraumatic stress disorder                                              13\n",
              "Idiopathic atrophic hypothyroidism                                         13\n",
              "Rupture of patellar tendon                                                 11\n",
              "Acute viral pharyngitis (disorder)                                         10\n",
              "Child attention deficit disorder                                           10\n",
              "Perennial allergic rhinitis with seasonal variation                         9\n",
              "Overlapping malignant neoplasm of colon                                     8\n",
              "Normal pregnancy                                                            8\n",
              "Injury of medial collateral ligament of knee                                8\n",
              "Secondary malignant neoplasm of colon                                       6\n",
              "Seasonal allergic rhinitis                                                  6\n",
              "Major depression  single episode                                            5\n",
              "Major depression disorder                                                   4\n",
              "Rheumatoid arthritis                                                        4\n",
              "Familial Alzheimer's disease of early onset (disorder)                      3\n",
              "Asthma                                                                      2\n",
              "Fracture of ankle                                                           2\n",
              "Blighted ovum                                                               2\n",
              "Injury of anterior cruciate ligament                                        2\n",
              "Injury of tendon of the rotator cuff of shoulder                            1\n",
              "Name: EXAM_REASON, dtype: int64"
            ]
          },
          "metadata": {
            "tags": []
          },
          "execution_count": 57
        }
      ]
    },
    {
      "cell_type": "code",
      "metadata": {
        "id": "y-BgocSBz_KA",
        "colab_type": "code",
        "colab": {
          "base_uri": "https://localhost:8080/",
          "height": 521
        },
        "outputId": "c77400f3-7e9e-44dd-9ea3-094039bb8b12"
      },
      "source": [
        "trainTestRawDF.EXAM_TYPE.value_counts()"
      ],
      "execution_count": 58,
      "outputs": [
        {
          "output_type": "execute_result",
          "data": {
            "text/plain": [
              "Encounter for problem (procedure)                              4134\n",
              "Encounter for problem                                          2597\n",
              "Follow-up encounter                                            2312\n",
              "Encounter for symptom                                          1556\n",
              "Consultation for treatment                                     1175\n",
              "Emergency room admission (procedure)                            763\n",
              "General examination of patient (procedure)                      663\n",
              "Encounter Inpatient                                             227\n",
              "Hypertension follow-up encounter                                184\n",
              "Encounter for check up (procedure)                               84\n",
              "Emergency Room Admission                                         73\n",
              "Inpatient stay (finding)                                         55\n",
              "Well child visit (procedure)                                     43\n",
              "Stroke                                                           39\n",
              "Myocardial Infarction                                            24\n",
              "Cardiac Arrest                                                   24\n",
              "Non-urgent orthopedic admission                                  23\n",
              "Office Visit                                                     23\n",
              "Urgent care clinic (procedure)                                   23\n",
              "Hospital admission                                               17\n",
              "Initial Psychiatric Interview with mental status evaluation      14\n",
              "Encounter for Problem                                            13\n",
              "Prenatal visit                                                    8\n",
              "Emergency Encounter                                               7\n",
              "Encounter for 'check-up'                                          7\n",
              "Patient encounter procedure                                       6\n",
              "posttraumatic stress disorder                                     4\n",
              "Prenatal initial visit                                            2\n",
              "Gynecology service (qualifier value)                              2\n",
              "Name: EXAM_TYPE, dtype: int64"
            ]
          },
          "metadata": {
            "tags": []
          },
          "execution_count": 58
        }
      ]
    },
    {
      "cell_type": "code",
      "metadata": {
        "id": "ifAdJeka0LlY",
        "colab_type": "code",
        "colab": {
          "base_uri": "https://localhost:8080/",
          "height": 284
        },
        "outputId": "03ecb4c2-eb34-4014-cf92-3ee50bbb0f8d"
      },
      "source": [
        "trainTestRawDF.describe()"
      ],
      "execution_count": 59,
      "outputs": [
        {
          "output_type": "execute_result",
          "data": {
            "text/html": [
              "<div>\n",
              "<style scoped>\n",
              "    .dataframe tbody tr th:only-of-type {\n",
              "        vertical-align: middle;\n",
              "    }\n",
              "\n",
              "    .dataframe tbody tr th {\n",
              "        vertical-align: top;\n",
              "    }\n",
              "\n",
              "    .dataframe thead th {\n",
              "        text-align: right;\n",
              "    }\n",
              "</style>\n",
              "<table border=\"1\" class=\"dataframe\">\n",
              "  <thead>\n",
              "    <tr style=\"text-align: right;\">\n",
              "      <th></th>\n",
              "      <th>DISPENSES</th>\n",
              "      <th>AGE</th>\n",
              "    </tr>\n",
              "  </thead>\n",
              "  <tbody>\n",
              "    <tr>\n",
              "      <th>count</th>\n",
              "      <td>14102.000000</td>\n",
              "      <td>14102.000000</td>\n",
              "    </tr>\n",
              "    <tr>\n",
              "      <th>mean</th>\n",
              "      <td>40.657212</td>\n",
              "      <td>74.092611</td>\n",
              "    </tr>\n",
              "    <tr>\n",
              "      <th>std</th>\n",
              "      <td>314.287178</td>\n",
              "      <td>30.204956</td>\n",
              "    </tr>\n",
              "    <tr>\n",
              "      <th>min</th>\n",
              "      <td>1.000000</td>\n",
              "      <td>0.000000</td>\n",
              "    </tr>\n",
              "    <tr>\n",
              "      <th>25%</th>\n",
              "      <td>1.000000</td>\n",
              "      <td>53.000000</td>\n",
              "    </tr>\n",
              "    <tr>\n",
              "      <th>50%</th>\n",
              "      <td>1.000000</td>\n",
              "      <td>83.000000</td>\n",
              "    </tr>\n",
              "    <tr>\n",
              "      <th>75%</th>\n",
              "      <td>12.000000</td>\n",
              "      <td>102.000000</td>\n",
              "    </tr>\n",
              "    <tr>\n",
              "      <th>max</th>\n",
              "      <td>20318.000000</td>\n",
              "      <td>108.000000</td>\n",
              "    </tr>\n",
              "  </tbody>\n",
              "</table>\n",
              "</div>"
            ],
            "text/plain": [
              "          DISPENSES           AGE\n",
              "count  14102.000000  14102.000000\n",
              "mean      40.657212     74.092611\n",
              "std      314.287178     30.204956\n",
              "min        1.000000      0.000000\n",
              "25%        1.000000     53.000000\n",
              "50%        1.000000     83.000000\n",
              "75%       12.000000    102.000000\n",
              "max    20318.000000    108.000000"
            ]
          },
          "metadata": {
            "tags": []
          },
          "execution_count": 59
        }
      ]
    },
    {
      "cell_type": "code",
      "metadata": {
        "id": "n6n8ZT-t2FSJ",
        "colab_type": "code",
        "colab": {
          "base_uri": "https://localhost:8080/",
          "height": 218
        },
        "outputId": "ff3cfff8-b79e-425b-bc7a-90b89bb0ee7a"
      },
      "source": [
        "trainTestRawDF.DISPENSES.sort_values(ascending= False)"
      ],
      "execution_count": 60,
      "outputs": [
        {
          "output_type": "execute_result",
          "data": {
            "text/plain": [
              "12275    20318\n",
              "9216     19874\n",
              "8707     12964\n",
              "9948     10770\n",
              "8596     10055\n",
              "         ...  \n",
              "6472         1\n",
              "6471         1\n",
              "6470         1\n",
              "6469         1\n",
              "7050         1\n",
              "Name: DISPENSES, Length: 14102, dtype: int64"
            ]
          },
          "metadata": {
            "tags": []
          },
          "execution_count": 60
        }
      ]
    },
    {
      "cell_type": "code",
      "metadata": {
        "id": "IUdi70Nf3BNE",
        "colab_type": "code",
        "colab": {}
      },
      "source": [
        "trainTestValueCount = trainTestRawDF.DISPENSES.value_counts()"
      ],
      "execution_count": 0,
      "outputs": []
    },
    {
      "cell_type": "code",
      "metadata": {
        "id": "kAADDoW13WcH",
        "colab_type": "code",
        "colab": {
          "base_uri": "https://localhost:8080/",
          "height": 34
        },
        "outputId": "aeefe234-e2f1-4323-e932-ff57dd5cfbaa"
      },
      "source": [
        "len(trainTestValueCount)"
      ],
      "execution_count": 62,
      "outputs": [
        {
          "output_type": "execute_result",
          "data": {
            "text/plain": [
              "597"
            ]
          },
          "metadata": {
            "tags": []
          },
          "execution_count": 62
        }
      ]
    },
    {
      "cell_type": "code",
      "metadata": {
        "id": "1--MM8893Z8-",
        "colab_type": "code",
        "colab": {
          "base_uri": "https://localhost:8080/",
          "height": 370
        },
        "outputId": "b0d953e8-295c-46dd-fca5-f319e44db0a4"
      },
      "source": [
        "trainTestValueCount[-20:]"
      ],
      "execution_count": 63,
      "outputs": [
        {
          "output_type": "execute_result",
          "data": {
            "text/plain": [
              "869      1\n",
              "347      1\n",
              "307      1\n",
              "650      1\n",
              "294      1\n",
              "12964    1\n",
              "682      1\n",
              "730      1\n",
              "738      1\n",
              "746      1\n",
              "842      1\n",
              "286      1\n",
              "283      1\n",
              "230      1\n",
              "107      1\n",
              "166      1\n",
              "126      1\n",
              "94       1\n",
              "203      1\n",
              "20318    1\n",
              "Name: DISPENSES, dtype: int64"
            ]
          },
          "metadata": {
            "tags": []
          },
          "execution_count": 63
        }
      ]
    },
    {
      "cell_type": "code",
      "metadata": {
        "id": "hUYIEMeN0O1M",
        "colab_type": "code",
        "colab": {}
      },
      "source": [
        "#setting cutoff param dispense counts ( 1 Pill Q 4 Hours X 90 Day Supply = 540 )\n",
        "trainTestRawDF = trainTestRawDF[trainTestRawDF.DISPENSES <= 540]"
      ],
      "execution_count": 0,
      "outputs": []
    },
    {
      "cell_type": "code",
      "metadata": {
        "id": "pp2kvSz44rHe",
        "colab_type": "code",
        "colab": {
          "base_uri": "https://localhost:8080/",
          "height": 218
        },
        "outputId": "19d9258a-8667-455a-9bd4-eff6eb83b39d"
      },
      "source": [
        "trainTestRawDF.DISPENSES.sort_values(ascending= False)"
      ],
      "execution_count": 65,
      "outputs": [
        {
          "output_type": "execute_result",
          "data": {
            "text/plain": [
              "4245     539\n",
              "4246     539\n",
              "13930    539\n",
              "10545    538\n",
              "10955    538\n",
              "        ... \n",
              "6512       1\n",
              "6511       1\n",
              "6510       1\n",
              "6509       1\n",
              "7049       1\n",
              "Name: DISPENSES, Length: 13880, dtype: int64"
            ]
          },
          "metadata": {
            "tags": []
          },
          "execution_count": 65
        }
      ]
    },
    {
      "cell_type": "code",
      "metadata": {
        "id": "heF5qiEZzqqI",
        "colab_type": "code",
        "colab": {
          "base_uri": "https://localhost:8080/",
          "height": 195
        },
        "outputId": "8dcd0bdb-3e12-4ef9-918a-74d3312dff0f"
      },
      "source": [
        "trainTestRawDF.head()"
      ],
      "execution_count": 66,
      "outputs": [
        {
          "output_type": "execute_result",
          "data": {
            "text/html": [
              "<div>\n",
              "<style scoped>\n",
              "    .dataframe tbody tr th:only-of-type {\n",
              "        vertical-align: middle;\n",
              "    }\n",
              "\n",
              "    .dataframe tbody tr th {\n",
              "        vertical-align: top;\n",
              "    }\n",
              "\n",
              "    .dataframe thead th {\n",
              "        text-align: right;\n",
              "    }\n",
              "</style>\n",
              "<table border=\"1\" class=\"dataframe\">\n",
              "  <thead>\n",
              "    <tr style=\"text-align: right;\">\n",
              "      <th></th>\n",
              "      <th>DESCRIPTION</th>\n",
              "      <th>DISPENSES</th>\n",
              "      <th>EXAM_REASON</th>\n",
              "      <th>EXAM_TYPE</th>\n",
              "      <th>AGE</th>\n",
              "      <th>GENDER</th>\n",
              "    </tr>\n",
              "  </thead>\n",
              "  <tbody>\n",
              "    <tr>\n",
              "      <th>0</th>\n",
              "      <td>Amlodipine 5 MG / Hydrochlorothiazide 12.5 MG ...</td>\n",
              "      <td>290</td>\n",
              "      <td>Unknown</td>\n",
              "      <td>Hypertension follow-up encounter</td>\n",
              "      <td>42</td>\n",
              "      <td>M</td>\n",
              "    </tr>\n",
              "    <tr>\n",
              "      <th>1</th>\n",
              "      <td>Acetaminophen 325 MG Oral Tablet</td>\n",
              "      <td>1</td>\n",
              "      <td>Acute bronchitis (disorder)</td>\n",
              "      <td>Encounter for symptom</td>\n",
              "      <td>42</td>\n",
              "      <td>M</td>\n",
              "    </tr>\n",
              "    <tr>\n",
              "      <th>2</th>\n",
              "      <td>Amoxicillin 250 MG / Clavulanate 125 MG Oral T...</td>\n",
              "      <td>1</td>\n",
              "      <td>Viral sinusitis (disorder)</td>\n",
              "      <td>Encounter for symptom</td>\n",
              "      <td>42</td>\n",
              "      <td>M</td>\n",
              "    </tr>\n",
              "    <tr>\n",
              "      <th>3</th>\n",
              "      <td>Cefuroxime 250 MG Oral Tablet</td>\n",
              "      <td>1</td>\n",
              "      <td>Otitis media</td>\n",
              "      <td>Encounter for symptom</td>\n",
              "      <td>13</td>\n",
              "      <td>M</td>\n",
              "    </tr>\n",
              "    <tr>\n",
              "      <th>4</th>\n",
              "      <td>Ibuprofen 100 MG Oral Tablet</td>\n",
              "      <td>1</td>\n",
              "      <td>Otitis media</td>\n",
              "      <td>Encounter for symptom</td>\n",
              "      <td>13</td>\n",
              "      <td>M</td>\n",
              "    </tr>\n",
              "  </tbody>\n",
              "</table>\n",
              "</div>"
            ],
            "text/plain": [
              "                                         DESCRIPTION  DISPENSES  ... AGE GENDER\n",
              "0  Amlodipine 5 MG / Hydrochlorothiazide 12.5 MG ...        290  ...  42      M\n",
              "1                   Acetaminophen 325 MG Oral Tablet          1  ...  42      M\n",
              "2  Amoxicillin 250 MG / Clavulanate 125 MG Oral T...          1  ...  42      M\n",
              "3                      Cefuroxime 250 MG Oral Tablet          1  ...  13      M\n",
              "4                       Ibuprofen 100 MG Oral Tablet          1  ...  13      M\n",
              "\n",
              "[5 rows x 6 columns]"
            ]
          },
          "metadata": {
            "tags": []
          },
          "execution_count": 66
        }
      ]
    },
    {
      "cell_type": "code",
      "metadata": {
        "id": "IIfHU9_u4zZf",
        "colab_type": "code",
        "colab": {
          "base_uri": "https://localhost:8080/",
          "height": 34
        },
        "outputId": "d6a18902-3f71-4e63-8d2f-c25a3df4e283"
      },
      "source": [
        "len(trainTestRawDF.DESCRIPTION.unique())"
      ],
      "execution_count": 67,
      "outputs": [
        {
          "output_type": "execute_result",
          "data": {
            "text/plain": [
              "150"
            ]
          },
          "metadata": {
            "tags": []
          },
          "execution_count": 67
        }
      ]
    },
    {
      "cell_type": "code",
      "metadata": {
        "id": "1uMuEOka8-A1",
        "colab_type": "code",
        "colab": {
          "base_uri": "https://localhost:8080/",
          "height": 34
        },
        "outputId": "01239b13-6781-40dc-93b9-575b8054d7c2"
      },
      "source": [
        "len(trainTestRawDF.EXAM_REASON.unique())"
      ],
      "execution_count": 68,
      "outputs": [
        {
          "output_type": "execute_result",
          "data": {
            "text/plain": [
              "50"
            ]
          },
          "metadata": {
            "tags": []
          },
          "execution_count": 68
        }
      ]
    },
    {
      "cell_type": "code",
      "metadata": {
        "id": "6qM920Ur9Q3-",
        "colab_type": "code",
        "colab": {
          "base_uri": "https://localhost:8080/",
          "height": 34
        },
        "outputId": "62376dc8-ed27-4c0e-e8c0-a53c67f44203"
      },
      "source": [
        "len(trainTestRawDF.EXAM_TYPE.unique())"
      ],
      "execution_count": 69,
      "outputs": [
        {
          "output_type": "execute_result",
          "data": {
            "text/plain": [
              "29"
            ]
          },
          "metadata": {
            "tags": []
          },
          "execution_count": 69
        }
      ]
    },
    {
      "cell_type": "code",
      "metadata": {
        "id": "RtuhFeNQCUad",
        "colab_type": "code",
        "colab": {
          "base_uri": "https://localhost:8080/",
          "height": 136
        },
        "outputId": "7bf4ef36-b139-4516-e438-8a597ebd99bd"
      },
      "source": [
        "trainTestRawDF.tail(3)"
      ],
      "execution_count": 72,
      "outputs": [
        {
          "output_type": "execute_result",
          "data": {
            "text/html": [
              "<div>\n",
              "<style scoped>\n",
              "    .dataframe tbody tr th:only-of-type {\n",
              "        vertical-align: middle;\n",
              "    }\n",
              "\n",
              "    .dataframe tbody tr th {\n",
              "        vertical-align: top;\n",
              "    }\n",
              "\n",
              "    .dataframe thead th {\n",
              "        text-align: right;\n",
              "    }\n",
              "</style>\n",
              "<table border=\"1\" class=\"dataframe\">\n",
              "  <thead>\n",
              "    <tr style=\"text-align: right;\">\n",
              "      <th></th>\n",
              "      <th>DESCRIPTION</th>\n",
              "      <th>DISPENSES</th>\n",
              "      <th>EXAM_REASON</th>\n",
              "      <th>EXAM_TYPE</th>\n",
              "      <th>AGE</th>\n",
              "      <th>GENDER</th>\n",
              "    </tr>\n",
              "  </thead>\n",
              "  <tbody>\n",
              "    <tr>\n",
              "      <th>14099</th>\n",
              "      <td>Simvistatin 10 MG</td>\n",
              "      <td>12</td>\n",
              "      <td>Hyperlipidemia</td>\n",
              "      <td>Follow-up encounter</td>\n",
              "      <td>68</td>\n",
              "      <td>M</td>\n",
              "    </tr>\n",
              "    <tr>\n",
              "      <th>14100</th>\n",
              "      <td>Simvistatin 10 MG</td>\n",
              "      <td>12</td>\n",
              "      <td>Hyperlipidemia</td>\n",
              "      <td>Follow-up encounter</td>\n",
              "      <td>68</td>\n",
              "      <td>M</td>\n",
              "    </tr>\n",
              "    <tr>\n",
              "      <th>14101</th>\n",
              "      <td>Simvistatin 10 MG</td>\n",
              "      <td>12</td>\n",
              "      <td>Hyperlipidemia</td>\n",
              "      <td>Follow-up encounter</td>\n",
              "      <td>68</td>\n",
              "      <td>M</td>\n",
              "    </tr>\n",
              "  </tbody>\n",
              "</table>\n",
              "</div>"
            ],
            "text/plain": [
              "             DESCRIPTION  DISPENSES  ... AGE GENDER\n",
              "14099  Simvistatin 10 MG         12  ...  68      M\n",
              "14100  Simvistatin 10 MG         12  ...  68      M\n",
              "14101  Simvistatin 10 MG         12  ...  68      M\n",
              "\n",
              "[3 rows x 6 columns]"
            ]
          },
          "metadata": {
            "tags": []
          },
          "execution_count": 72
        }
      ]
    },
    {
      "cell_type": "markdown",
      "metadata": {
        "id": "FjrfB_3MUHsl",
        "colab_type": "text"
      },
      "source": [
        "**EVALUATING CLUSTER METHODS (LOCAL OUTLIER AND KMEANS)**\n"
      ]
    },
    {
      "cell_type": "code",
      "metadata": {
        "id": "Ol6vUSu0JPSY",
        "colab_type": "code",
        "colab": {}
      },
      "source": [
        "lof = LocalOutlierFactor(n_neighbors= 50, novelty=True)"
      ],
      "execution_count": 0,
      "outputs": []
    },
    {
      "cell_type": "code",
      "metadata": {
        "id": "tyZd-ogVJbJO",
        "colab_type": "code",
        "colab": {
          "base_uri": "https://localhost:8080/",
          "height": 67
        },
        "outputId": "4c39d730-5957-4a2d-acb7-3d4977d7cb6c"
      },
      "source": [
        "lof.fit(medTransDF)"
      ],
      "execution_count": 81,
      "outputs": [
        {
          "output_type": "execute_result",
          "data": {
            "text/plain": [
              "LocalOutlierFactor(algorithm='auto', contamination='auto', leaf_size=30,\n",
              "                   metric='minkowski', metric_params=None, n_jobs=None,\n",
              "                   n_neighbors=50, novelty=True, p=2)"
            ]
          },
          "metadata": {
            "tags": []
          },
          "execution_count": 81
        }
      ]
    },
    {
      "cell_type": "code",
      "metadata": {
        "id": "XZLye_w-KbXN",
        "colab_type": "code",
        "colab": {
          "base_uri": "https://localhost:8080/",
          "height": 50
        },
        "outputId": "27cc5e56-7bf7-4bb6-bc35-eec823d16773"
      },
      "source": [
        "lof.negative_outlier_factor_"
      ],
      "execution_count": 82,
      "outputs": [
        {
          "output_type": "execute_result",
          "data": {
            "text/plain": [
              "array([-0.98782895, -1.00186907, -1.00767533, ..., -1.        ,\n",
              "       -1.        , -1.        ])"
            ]
          },
          "metadata": {
            "tags": []
          },
          "execution_count": 82
        }
      ]
    },
    {
      "cell_type": "code",
      "metadata": {
        "id": "aPfM5A407F-e",
        "colab_type": "code",
        "colab": {
          "base_uri": "https://localhost:8080/",
          "height": 34
        },
        "outputId": "9349feb6-c94e-4e95-dded-3178ff47b786"
      },
      "source": [
        "len(lof.negative_outlier_factor_)"
      ],
      "execution_count": 100,
      "outputs": [
        {
          "output_type": "execute_result",
          "data": {
            "text/plain": [
              "13880"
            ]
          },
          "metadata": {
            "tags": []
          },
          "execution_count": 100
        }
      ]
    },
    {
      "cell_type": "code",
      "metadata": {
        "id": "IxLP4oTuw7NP",
        "colab_type": "code",
        "colab": {}
      },
      "source": [
        "from kmodes.kmodes import KModes\n",
        "from kmodes.kprototypes import KPrototypes\n",
        "from sklearn.neighbors import LocalOutlierFactor"
      ],
      "execution_count": 0,
      "outputs": []
    },
    {
      "cell_type": "code",
      "metadata": {
        "id": "0Zx9XbWayIPJ",
        "colab_type": "code",
        "colab": {}
      },
      "source": [
        "clusterTrainDF = trainTestRawDF.copy()"
      ],
      "execution_count": 0,
      "outputs": []
    },
    {
      "cell_type": "code",
      "metadata": {
        "id": "OT95fh6C7Zpz",
        "colab_type": "code",
        "colab": {}
      },
      "source": [
        "clusterTrainDF['LOF'] = lof.negative_outlier_factor_"
      ],
      "execution_count": 0,
      "outputs": []
    },
    {
      "cell_type": "code",
      "metadata": {
        "id": "lDI_bV3d7WjB",
        "colab_type": "code",
        "colab": {
          "base_uri": "https://localhost:8080/",
          "height": 195
        },
        "outputId": "a57c4836-3979-4cf4-cf47-4423853df5bd"
      },
      "source": [
        "clusterTrainDF.head()"
      ],
      "execution_count": 107,
      "outputs": [
        {
          "output_type": "execute_result",
          "data": {
            "text/html": [
              "<div>\n",
              "<style scoped>\n",
              "    .dataframe tbody tr th:only-of-type {\n",
              "        vertical-align: middle;\n",
              "    }\n",
              "\n",
              "    .dataframe tbody tr th {\n",
              "        vertical-align: top;\n",
              "    }\n",
              "\n",
              "    .dataframe thead th {\n",
              "        text-align: right;\n",
              "    }\n",
              "</style>\n",
              "<table border=\"1\" class=\"dataframe\">\n",
              "  <thead>\n",
              "    <tr style=\"text-align: right;\">\n",
              "      <th></th>\n",
              "      <th>DESCRIPTION</th>\n",
              "      <th>DISPENSES</th>\n",
              "      <th>EXAM_REASON</th>\n",
              "      <th>EXAM_TYPE</th>\n",
              "      <th>AGE</th>\n",
              "      <th>GENDER</th>\n",
              "      <th>LOF</th>\n",
              "      <th>CLUSTERS</th>\n",
              "    </tr>\n",
              "  </thead>\n",
              "  <tbody>\n",
              "    <tr>\n",
              "      <th>0</th>\n",
              "      <td>Amlodipine 5 MG / Hydrochlorothiazide 12.5 MG ...</td>\n",
              "      <td>290</td>\n",
              "      <td>Unknown</td>\n",
              "      <td>Hypertension follow-up encounter</td>\n",
              "      <td>42</td>\n",
              "      <td>M</td>\n",
              "      <td>-0.987829</td>\n",
              "      <td>3</td>\n",
              "    </tr>\n",
              "    <tr>\n",
              "      <th>1</th>\n",
              "      <td>Acetaminophen 325 MG Oral Tablet</td>\n",
              "      <td>1</td>\n",
              "      <td>Acute bronchitis (disorder)</td>\n",
              "      <td>Encounter for symptom</td>\n",
              "      <td>42</td>\n",
              "      <td>M</td>\n",
              "      <td>-1.001869</td>\n",
              "      <td>1</td>\n",
              "    </tr>\n",
              "    <tr>\n",
              "      <th>2</th>\n",
              "      <td>Amoxicillin 250 MG / Clavulanate 125 MG Oral T...</td>\n",
              "      <td>1</td>\n",
              "      <td>Viral sinusitis (disorder)</td>\n",
              "      <td>Encounter for symptom</td>\n",
              "      <td>42</td>\n",
              "      <td>M</td>\n",
              "      <td>-1.007675</td>\n",
              "      <td>1</td>\n",
              "    </tr>\n",
              "    <tr>\n",
              "      <th>3</th>\n",
              "      <td>Cefuroxime 250 MG Oral Tablet</td>\n",
              "      <td>1</td>\n",
              "      <td>Otitis media</td>\n",
              "      <td>Encounter for symptom</td>\n",
              "      <td>13</td>\n",
              "      <td>M</td>\n",
              "      <td>-0.997242</td>\n",
              "      <td>0</td>\n",
              "    </tr>\n",
              "    <tr>\n",
              "      <th>4</th>\n",
              "      <td>Ibuprofen 100 MG Oral Tablet</td>\n",
              "      <td>1</td>\n",
              "      <td>Otitis media</td>\n",
              "      <td>Encounter for symptom</td>\n",
              "      <td>13</td>\n",
              "      <td>M</td>\n",
              "      <td>-1.001199</td>\n",
              "      <td>0</td>\n",
              "    </tr>\n",
              "  </tbody>\n",
              "</table>\n",
              "</div>"
            ],
            "text/plain": [
              "                                         DESCRIPTION  ...  CLUSTERS\n",
              "0  Amlodipine 5 MG / Hydrochlorothiazide 12.5 MG ...  ...         3\n",
              "1                   Acetaminophen 325 MG Oral Tablet  ...         1\n",
              "2  Amoxicillin 250 MG / Clavulanate 125 MG Oral T...  ...         1\n",
              "3                      Cefuroxime 250 MG Oral Tablet  ...         0\n",
              "4                       Ibuprofen 100 MG Oral Tablet  ...         0\n",
              "\n",
              "[5 rows x 8 columns]"
            ]
          },
          "metadata": {
            "tags": []
          },
          "execution_count": 107
        }
      ]
    },
    {
      "cell_type": "code",
      "metadata": {
        "id": "Z_jzgeh3xx3x",
        "colab_type": "code",
        "colab": {}
      },
      "source": [
        "clusters = KPrototypes().fit_predict(trainTestRawDF, categorical=[0, 2, 3, 5])"
      ],
      "execution_count": 0,
      "outputs": []
    },
    {
      "cell_type": "code",
      "metadata": {
        "id": "zS-Z3fjA7YNS",
        "colab_type": "code",
        "colab": {
          "base_uri": "https://localhost:8080/",
          "height": 34
        },
        "outputId": "d0a7f153-ad73-4261-d8ca-5b35a441eaaf"
      },
      "source": [
        "clusters"
      ],
      "execution_count": 105,
      "outputs": [
        {
          "output_type": "execute_result",
          "data": {
            "text/plain": [
              "array([3, 1, 1, ..., 5, 5, 5], dtype=uint16)"
            ]
          },
          "metadata": {
            "tags": []
          },
          "execution_count": 105
        }
      ]
    },
    {
      "cell_type": "code",
      "metadata": {
        "id": "dhDQN6pX7wlh",
        "colab_type": "code",
        "colab": {}
      },
      "source": [
        "clusterTrainDF['CLUSTERS'] = clusters"
      ],
      "execution_count": 0,
      "outputs": []
    },
    {
      "cell_type": "code",
      "metadata": {
        "id": "jETKThK38uHn",
        "colab_type": "code",
        "colab": {}
      },
      "source": [
        "subTrain3cols = clusterTrainDF[['DESCRIPTION', 'DISPENSES',\t'EXAM_REASON']]"
      ],
      "execution_count": 0,
      "outputs": []
    },
    {
      "cell_type": "code",
      "metadata": {
        "id": "XhyU-gPU9Eko",
        "colab_type": "code",
        "colab": {
          "base_uri": "https://localhost:8080/",
          "height": 195
        },
        "outputId": "cf375e2b-bfd4-4d87-f931-e73cc9115a1a"
      },
      "source": [
        "subTrain3cols.head()"
      ],
      "execution_count": 108,
      "outputs": [
        {
          "output_type": "execute_result",
          "data": {
            "text/html": [
              "<div>\n",
              "<style scoped>\n",
              "    .dataframe tbody tr th:only-of-type {\n",
              "        vertical-align: middle;\n",
              "    }\n",
              "\n",
              "    .dataframe tbody tr th {\n",
              "        vertical-align: top;\n",
              "    }\n",
              "\n",
              "    .dataframe thead th {\n",
              "        text-align: right;\n",
              "    }\n",
              "</style>\n",
              "<table border=\"1\" class=\"dataframe\">\n",
              "  <thead>\n",
              "    <tr style=\"text-align: right;\">\n",
              "      <th></th>\n",
              "      <th>DESCRIPTION</th>\n",
              "      <th>DISPENSES</th>\n",
              "      <th>EXAM_REASON</th>\n",
              "    </tr>\n",
              "  </thead>\n",
              "  <tbody>\n",
              "    <tr>\n",
              "      <th>0</th>\n",
              "      <td>Amlodipine 5 MG / Hydrochlorothiazide 12.5 MG ...</td>\n",
              "      <td>290</td>\n",
              "      <td>Unknown</td>\n",
              "    </tr>\n",
              "    <tr>\n",
              "      <th>1</th>\n",
              "      <td>Acetaminophen 325 MG Oral Tablet</td>\n",
              "      <td>1</td>\n",
              "      <td>Acute bronchitis (disorder)</td>\n",
              "    </tr>\n",
              "    <tr>\n",
              "      <th>2</th>\n",
              "      <td>Amoxicillin 250 MG / Clavulanate 125 MG Oral T...</td>\n",
              "      <td>1</td>\n",
              "      <td>Viral sinusitis (disorder)</td>\n",
              "    </tr>\n",
              "    <tr>\n",
              "      <th>3</th>\n",
              "      <td>Cefuroxime 250 MG Oral Tablet</td>\n",
              "      <td>1</td>\n",
              "      <td>Otitis media</td>\n",
              "    </tr>\n",
              "    <tr>\n",
              "      <th>4</th>\n",
              "      <td>Ibuprofen 100 MG Oral Tablet</td>\n",
              "      <td>1</td>\n",
              "      <td>Otitis media</td>\n",
              "    </tr>\n",
              "  </tbody>\n",
              "</table>\n",
              "</div>"
            ],
            "text/plain": [
              "                                         DESCRIPTION  ...                  EXAM_REASON\n",
              "0  Amlodipine 5 MG / Hydrochlorothiazide 12.5 MG ...  ...                      Unknown\n",
              "1                   Acetaminophen 325 MG Oral Tablet  ...  Acute bronchitis (disorder)\n",
              "2  Amoxicillin 250 MG / Clavulanate 125 MG Oral T...  ...   Viral sinusitis (disorder)\n",
              "3                      Cefuroxime 250 MG Oral Tablet  ...                 Otitis media\n",
              "4                       Ibuprofen 100 MG Oral Tablet  ...                 Otitis media\n",
              "\n",
              "[5 rows x 3 columns]"
            ]
          },
          "metadata": {
            "tags": []
          },
          "execution_count": 108
        }
      ]
    },
    {
      "cell_type": "code",
      "metadata": {
        "colab_type": "code",
        "id": "4a99lzgQY6Ax",
        "colab": {
          "base_uri": "https://localhost:8080/",
          "height": 431
        },
        "outputId": "1b7eb976-b5f0-4599-c2f1-e88a6629f16e"
      },
      "source": [
        "clusterTrainDF.groupby(['CLUSTERS','EXAM_REASON']).count()"
      ],
      "execution_count": 109,
      "outputs": [
        {
          "output_type": "execute_result",
          "data": {
            "text/html": [
              "<div>\n",
              "<style scoped>\n",
              "    .dataframe tbody tr th:only-of-type {\n",
              "        vertical-align: middle;\n",
              "    }\n",
              "\n",
              "    .dataframe tbody tr th {\n",
              "        vertical-align: top;\n",
              "    }\n",
              "\n",
              "    .dataframe thead th {\n",
              "        text-align: right;\n",
              "    }\n",
              "</style>\n",
              "<table border=\"1\" class=\"dataframe\">\n",
              "  <thead>\n",
              "    <tr style=\"text-align: right;\">\n",
              "      <th></th>\n",
              "      <th></th>\n",
              "      <th>DESCRIPTION</th>\n",
              "      <th>DISPENSES</th>\n",
              "      <th>EXAM_TYPE</th>\n",
              "      <th>AGE</th>\n",
              "      <th>GENDER</th>\n",
              "      <th>LOF</th>\n",
              "    </tr>\n",
              "    <tr>\n",
              "      <th>CLUSTERS</th>\n",
              "      <th>EXAM_REASON</th>\n",
              "      <th></th>\n",
              "      <th></th>\n",
              "      <th></th>\n",
              "      <th></th>\n",
              "      <th></th>\n",
              "      <th></th>\n",
              "    </tr>\n",
              "  </thead>\n",
              "  <tbody>\n",
              "    <tr>\n",
              "      <th rowspan=\"5\" valign=\"top\">0</th>\n",
              "      <th>Acute bacterial sinusitis (disorder)</th>\n",
              "      <td>5</td>\n",
              "      <td>5</td>\n",
              "      <td>5</td>\n",
              "      <td>5</td>\n",
              "      <td>5</td>\n",
              "      <td>5</td>\n",
              "    </tr>\n",
              "    <tr>\n",
              "      <th>Acute bronchitis (disorder)</th>\n",
              "      <td>210</td>\n",
              "      <td>210</td>\n",
              "      <td>210</td>\n",
              "      <td>210</td>\n",
              "      <td>210</td>\n",
              "      <td>210</td>\n",
              "    </tr>\n",
              "    <tr>\n",
              "      <th>Acute viral pharyngitis (disorder)</th>\n",
              "      <td>9</td>\n",
              "      <td>9</td>\n",
              "      <td>9</td>\n",
              "      <td>9</td>\n",
              "      <td>9</td>\n",
              "      <td>9</td>\n",
              "    </tr>\n",
              "    <tr>\n",
              "      <th>Anemia (disorder)</th>\n",
              "      <td>4</td>\n",
              "      <td>4</td>\n",
              "      <td>4</td>\n",
              "      <td>4</td>\n",
              "      <td>4</td>\n",
              "      <td>4</td>\n",
              "    </tr>\n",
              "    <tr>\n",
              "      <th>Atopic dermatitis</th>\n",
              "      <td>12</td>\n",
              "      <td>12</td>\n",
              "      <td>12</td>\n",
              "      <td>12</td>\n",
              "      <td>12</td>\n",
              "      <td>12</td>\n",
              "    </tr>\n",
              "    <tr>\n",
              "      <th>...</th>\n",
              "      <th>...</th>\n",
              "      <td>...</td>\n",
              "      <td>...</td>\n",
              "      <td>...</td>\n",
              "      <td>...</td>\n",
              "      <td>...</td>\n",
              "      <td>...</td>\n",
              "    </tr>\n",
              "    <tr>\n",
              "      <th rowspan=\"5\" valign=\"top\">7</th>\n",
              "      <th>Perennial allergic rhinitis with seasonal variation</th>\n",
              "      <td>1</td>\n",
              "      <td>1</td>\n",
              "      <td>1</td>\n",
              "      <td>1</td>\n",
              "      <td>1</td>\n",
              "      <td>1</td>\n",
              "    </tr>\n",
              "    <tr>\n",
              "      <th>Posttraumatic stress disorder</th>\n",
              "      <td>1</td>\n",
              "      <td>1</td>\n",
              "      <td>1</td>\n",
              "      <td>1</td>\n",
              "      <td>1</td>\n",
              "      <td>1</td>\n",
              "    </tr>\n",
              "    <tr>\n",
              "      <th>Rupture of patellar tendon</th>\n",
              "      <td>1</td>\n",
              "      <td>1</td>\n",
              "      <td>1</td>\n",
              "      <td>1</td>\n",
              "      <td>1</td>\n",
              "      <td>1</td>\n",
              "    </tr>\n",
              "    <tr>\n",
              "      <th>Seizure disorder</th>\n",
              "      <td>1</td>\n",
              "      <td>1</td>\n",
              "      <td>1</td>\n",
              "      <td>1</td>\n",
              "      <td>1</td>\n",
              "      <td>1</td>\n",
              "    </tr>\n",
              "    <tr>\n",
              "      <th>Unknown</th>\n",
              "      <td>289</td>\n",
              "      <td>289</td>\n",
              "      <td>289</td>\n",
              "      <td>289</td>\n",
              "      <td>289</td>\n",
              "      <td>289</td>\n",
              "    </tr>\n",
              "  </tbody>\n",
              "</table>\n",
              "<p>186 rows × 6 columns</p>\n",
              "</div>"
            ],
            "text/plain": [
              "                                                             DESCRIPTION  ...  LOF\n",
              "CLUSTERS EXAM_REASON                                                      ...     \n",
              "0        Acute bacterial sinusitis (disorder)                          5  ...    5\n",
              "         Acute bronchitis (disorder)                                 210  ...  210\n",
              "         Acute viral pharyngitis (disorder)                            9  ...    9\n",
              "         Anemia (disorder)                                             4  ...    4\n",
              "         Atopic dermatitis                                            12  ...   12\n",
              "...                                                                  ...  ...  ...\n",
              "7        Perennial allergic rhinitis with seasonal varia...            1  ...    1\n",
              "         Posttraumatic stress disorder                                 1  ...    1\n",
              "         Rupture of patellar tendon                                    1  ...    1\n",
              "         Seizure disorder                                              1  ...    1\n",
              "         Unknown                                                     289  ...  289\n",
              "\n",
              "[186 rows x 6 columns]"
            ]
          },
          "metadata": {
            "tags": []
          },
          "execution_count": 109
        }
      ]
    },
    {
      "cell_type": "code",
      "metadata": {
        "id": "r0KXCnbF4Ftg",
        "colab_type": "code",
        "colab": {
          "base_uri": "https://localhost:8080/",
          "height": 431
        },
        "outputId": "c00cac70-e34e-42da-dd0a-26a2140e088e"
      },
      "source": [
        "subTrain3cols.groupby(['EXAM_REASON','DESCRIPTION']).count()"
      ],
      "execution_count": 111,
      "outputs": [
        {
          "output_type": "execute_result",
          "data": {
            "text/html": [
              "<div>\n",
              "<style scoped>\n",
              "    .dataframe tbody tr th:only-of-type {\n",
              "        vertical-align: middle;\n",
              "    }\n",
              "\n",
              "    .dataframe tbody tr th {\n",
              "        vertical-align: top;\n",
              "    }\n",
              "\n",
              "    .dataframe thead th {\n",
              "        text-align: right;\n",
              "    }\n",
              "</style>\n",
              "<table border=\"1\" class=\"dataframe\">\n",
              "  <thead>\n",
              "    <tr style=\"text-align: right;\">\n",
              "      <th></th>\n",
              "      <th></th>\n",
              "      <th>DISPENSES</th>\n",
              "    </tr>\n",
              "    <tr>\n",
              "      <th>EXAM_REASON</th>\n",
              "      <th>DESCRIPTION</th>\n",
              "      <th></th>\n",
              "    </tr>\n",
              "  </thead>\n",
              "  <tbody>\n",
              "    <tr>\n",
              "      <th rowspan=\"5\" valign=\"top\">Acute Cholecystitis</th>\n",
              "      <th>1 ML Morphine Sulfate 5 MG/ML Injection</th>\n",
              "      <td>4</td>\n",
              "    </tr>\n",
              "    <tr>\n",
              "      <th>100 ML Propofol 10 MG/ML Injection</th>\n",
              "      <td>4</td>\n",
              "    </tr>\n",
              "    <tr>\n",
              "      <th>2 ML Ondansetron 2 MG/ML Injection</th>\n",
              "      <td>8</td>\n",
              "    </tr>\n",
              "    <tr>\n",
              "      <th>Acetaminophen 325 MG / HYDROcodone Bitartrate 7.5 MG Oral Tablet</th>\n",
              "      <td>2</td>\n",
              "    </tr>\n",
              "    <tr>\n",
              "      <th>Acetaminophen 325 MG / oxyCODONE Hydrochloride 5 MG Oral Tablet</th>\n",
              "      <td>1</td>\n",
              "    </tr>\n",
              "    <tr>\n",
              "      <th>...</th>\n",
              "      <th>...</th>\n",
              "      <td>...</td>\n",
              "    </tr>\n",
              "    <tr>\n",
              "      <th rowspan=\"3\" valign=\"top\">Unknown</th>\n",
              "      <th>palbociclib 100 MG Oral Capsule</th>\n",
              "      <td>3</td>\n",
              "    </tr>\n",
              "    <tr>\n",
              "      <th>predniSONE 5 MG Oral Tablet</th>\n",
              "      <td>31</td>\n",
              "    </tr>\n",
              "    <tr>\n",
              "      <th>ribociclib 200 MG Oral Tablet</th>\n",
              "      <td>1</td>\n",
              "    </tr>\n",
              "    <tr>\n",
              "      <th rowspan=\"2\" valign=\"top\">Viral sinusitis (disorder)</th>\n",
              "      <th>60 ACTUAT Fluticasone propionate 0.25 MG/ACTUAT / salmeterol 0.05 MG/ACTUAT Dry Powder Inhaler</th>\n",
              "      <td>6</td>\n",
              "    </tr>\n",
              "    <tr>\n",
              "      <th>Amoxicillin 250 MG / Clavulanate 125 MG Oral Tablet</th>\n",
              "      <td>236</td>\n",
              "    </tr>\n",
              "  </tbody>\n",
              "</table>\n",
              "<p>231 rows × 1 columns</p>\n",
              "</div>"
            ],
            "text/plain": [
              "                                                                               DISPENSES\n",
              "EXAM_REASON                DESCRIPTION                                                  \n",
              "Acute Cholecystitis        1 ML Morphine Sulfate 5 MG/ML Injection                     4\n",
              "                           100 ML Propofol 10 MG/ML Injection                          4\n",
              "                           2 ML Ondansetron 2 MG/ML Injection                          8\n",
              "                           Acetaminophen 325 MG / HYDROcodone Bitartrate 7...          2\n",
              "                           Acetaminophen 325 MG / oxyCODONE Hydrochloride ...          1\n",
              "...                                                                                  ...\n",
              "Unknown                    palbociclib 100 MG Oral Capsule                             3\n",
              "                           predniSONE 5 MG Oral Tablet                                31\n",
              "                           ribociclib 200 MG Oral Tablet                               1\n",
              "Viral sinusitis (disorder) 60 ACTUAT Fluticasone propionate 0.25 MG/ACTUAT...          6\n",
              "                           Amoxicillin 250 MG / Clavulanate 125 MG Oral Ta...        236\n",
              "\n",
              "[231 rows x 1 columns]"
            ]
          },
          "metadata": {
            "tags": []
          },
          "execution_count": 111
        }
      ]
    },
    {
      "cell_type": "markdown",
      "metadata": {
        "id": "Kh4Eksw9N42K",
        "colab_type": "text"
      },
      "source": [
        "**PROOF OF CONCEPT** - \n",
        "Demo using *Ear Infection* as diagnosis type"
      ]
    },
    {
      "cell_type": "code",
      "metadata": {
        "id": "bBsar3ykZDYL",
        "colab_type": "code",
        "colab": {}
      },
      "source": [
        "#Sub DF for Ear Infection e.g. Otitis media\n",
        "omDF = clusterTrainDF.loc[clusterTrainDF['EXAM_REASON'] == 'Otitis media']"
      ],
      "execution_count": 0,
      "outputs": []
    },
    {
      "cell_type": "code",
      "metadata": {
        "id": "AQi4CuCS_I-j",
        "colab_type": "code",
        "colab": {}
      },
      "source": [
        "#synthetic data had very low variation in dispense amount, replaced with random values between 1 and 15\n",
        "omDF['DISPENSES'] = np.random.randint(1,15, size=len(omDF['DISPENSES']))"
      ],
      "execution_count": 0,
      "outputs": []
    },
    {
      "cell_type": "code",
      "metadata": {
        "id": "7fApCpqr8w7s",
        "colab_type": "code",
        "colab": {
          "base_uri": "https://localhost:8080/",
          "height": 373
        },
        "outputId": "941f989b-ccd4-4a97-85f1-3ceade9f6d05"
      },
      "source": [
        "#Dist. of data within otitis media\n",
        "omDF.describe(include='all')"
      ],
      "execution_count": 158,
      "outputs": [
        {
          "output_type": "execute_result",
          "data": {
            "text/html": [
              "<div>\n",
              "<style scoped>\n",
              "    .dataframe tbody tr th:only-of-type {\n",
              "        vertical-align: middle;\n",
              "    }\n",
              "\n",
              "    .dataframe tbody tr th {\n",
              "        vertical-align: top;\n",
              "    }\n",
              "\n",
              "    .dataframe thead th {\n",
              "        text-align: right;\n",
              "    }\n",
              "</style>\n",
              "<table border=\"1\" class=\"dataframe\">\n",
              "  <thead>\n",
              "    <tr style=\"text-align: right;\">\n",
              "      <th></th>\n",
              "      <th>DESCRIPTION</th>\n",
              "      <th>DISPENSES</th>\n",
              "      <th>EXAM_REASON</th>\n",
              "      <th>EXAM_TYPE</th>\n",
              "      <th>AGE</th>\n",
              "      <th>GENDER</th>\n",
              "      <th>LOF</th>\n",
              "      <th>CLUSTERS</th>\n",
              "    </tr>\n",
              "  </thead>\n",
              "  <tbody>\n",
              "    <tr>\n",
              "      <th>count</th>\n",
              "      <td>342</td>\n",
              "      <td>342.000000</td>\n",
              "      <td>342</td>\n",
              "      <td>342</td>\n",
              "      <td>342.000000</td>\n",
              "      <td>342</td>\n",
              "      <td>3.420000e+02</td>\n",
              "      <td>342.000000</td>\n",
              "    </tr>\n",
              "    <tr>\n",
              "      <th>unique</th>\n",
              "      <td>11</td>\n",
              "      <td>NaN</td>\n",
              "      <td>1</td>\n",
              "      <td>1</td>\n",
              "      <td>NaN</td>\n",
              "      <td>2</td>\n",
              "      <td>NaN</td>\n",
              "      <td>NaN</td>\n",
              "    </tr>\n",
              "    <tr>\n",
              "      <th>top</th>\n",
              "      <td>Amoxicillin 250 MG Oral Capsule</td>\n",
              "      <td>NaN</td>\n",
              "      <td>Otitis media</td>\n",
              "      <td>Encounter for symptom</td>\n",
              "      <td>NaN</td>\n",
              "      <td>F</td>\n",
              "      <td>NaN</td>\n",
              "      <td>NaN</td>\n",
              "    </tr>\n",
              "    <tr>\n",
              "      <th>freq</th>\n",
              "      <td>104</td>\n",
              "      <td>NaN</td>\n",
              "      <td>342</td>\n",
              "      <td>342</td>\n",
              "      <td>NaN</td>\n",
              "      <td>178</td>\n",
              "      <td>NaN</td>\n",
              "      <td>NaN</td>\n",
              "    </tr>\n",
              "    <tr>\n",
              "      <th>mean</th>\n",
              "      <td>NaN</td>\n",
              "      <td>7.374269</td>\n",
              "      <td>NaN</td>\n",
              "      <td>NaN</td>\n",
              "      <td>17.526316</td>\n",
              "      <td>NaN</td>\n",
              "      <td>-1.422871e+09</td>\n",
              "      <td>0.426901</td>\n",
              "    </tr>\n",
              "    <tr>\n",
              "      <th>std</th>\n",
              "      <td>NaN</td>\n",
              "      <td>4.037251</td>\n",
              "      <td>NaN</td>\n",
              "      <td>NaN</td>\n",
              "      <td>22.884080</td>\n",
              "      <td>NaN</td>\n",
              "      <td>8.245731e+09</td>\n",
              "      <td>1.276534</td>\n",
              "    </tr>\n",
              "    <tr>\n",
              "      <th>min</th>\n",
              "      <td>NaN</td>\n",
              "      <td>1.000000</td>\n",
              "      <td>NaN</td>\n",
              "      <td>NaN</td>\n",
              "      <td>0.000000</td>\n",
              "      <td>NaN</td>\n",
              "      <td>-6.818227e+10</td>\n",
              "      <td>0.000000</td>\n",
              "    </tr>\n",
              "    <tr>\n",
              "      <th>25%</th>\n",
              "      <td>NaN</td>\n",
              "      <td>4.000000</td>\n",
              "      <td>NaN</td>\n",
              "      <td>NaN</td>\n",
              "      <td>6.000000</td>\n",
              "      <td>NaN</td>\n",
              "      <td>-1.034511e+00</td>\n",
              "      <td>0.000000</td>\n",
              "    </tr>\n",
              "    <tr>\n",
              "      <th>50%</th>\n",
              "      <td>NaN</td>\n",
              "      <td>7.000000</td>\n",
              "      <td>NaN</td>\n",
              "      <td>NaN</td>\n",
              "      <td>9.000000</td>\n",
              "      <td>NaN</td>\n",
              "      <td>-9.992017e-01</td>\n",
              "      <td>0.000000</td>\n",
              "    </tr>\n",
              "    <tr>\n",
              "      <th>75%</th>\n",
              "      <td>NaN</td>\n",
              "      <td>11.000000</td>\n",
              "      <td>NaN</td>\n",
              "      <td>NaN</td>\n",
              "      <td>15.000000</td>\n",
              "      <td>NaN</td>\n",
              "      <td>-9.862558e-01</td>\n",
              "      <td>0.000000</td>\n",
              "    </tr>\n",
              "    <tr>\n",
              "      <th>max</th>\n",
              "      <td>NaN</td>\n",
              "      <td>14.000000</td>\n",
              "      <td>NaN</td>\n",
              "      <td>NaN</td>\n",
              "      <td>104.000000</td>\n",
              "      <td>NaN</td>\n",
              "      <td>-9.685651e-01</td>\n",
              "      <td>5.000000</td>\n",
              "    </tr>\n",
              "  </tbody>\n",
              "</table>\n",
              "</div>"
            ],
            "text/plain": [
              "                            DESCRIPTION   DISPENSES  ...           LOF    CLUSTERS\n",
              "count                               342  342.000000  ...  3.420000e+02  342.000000\n",
              "unique                               11         NaN  ...           NaN         NaN\n",
              "top     Amoxicillin 250 MG Oral Capsule         NaN  ...           NaN         NaN\n",
              "freq                                104         NaN  ...           NaN         NaN\n",
              "mean                                NaN    7.374269  ... -1.422871e+09    0.426901\n",
              "std                                 NaN    4.037251  ...  8.245731e+09    1.276534\n",
              "min                                 NaN    1.000000  ... -6.818227e+10    0.000000\n",
              "25%                                 NaN    4.000000  ... -1.034511e+00    0.000000\n",
              "50%                                 NaN    7.000000  ... -9.992017e-01    0.000000\n",
              "75%                                 NaN   11.000000  ... -9.862558e-01    0.000000\n",
              "max                                 NaN   14.000000  ... -9.685651e-01    5.000000\n",
              "\n",
              "[11 rows x 8 columns]"
            ]
          },
          "metadata": {
            "tags": []
          },
          "execution_count": 158
        }
      ]
    },
    {
      "cell_type": "code",
      "metadata": {
        "id": "J-ODk95k9kZb",
        "colab_type": "code",
        "colab": {}
      },
      "source": [
        "#assigning all meds used for the treatment of ear infections to list\n",
        "omMedList = omDF.DESCRIPTION.unique()"
      ],
      "execution_count": 0,
      "outputs": []
    },
    {
      "cell_type": "code",
      "metadata": {
        "id": "DZp1h2dQ-G_P",
        "colab_type": "code",
        "colab": {
          "base_uri": "https://localhost:8080/",
          "height": 118
        },
        "outputId": "9e131f1a-3497-4b74-831c-246f45f02de2"
      },
      "source": [
        "#viewing all meds currently used to treat ear infections\n",
        "print(omMedList)"
      ],
      "execution_count": 156,
      "outputs": [
        {
          "output_type": "stream",
          "text": [
            "['Cefuroxime 250 MG Oral Tablet' 'Ibuprofen 100 MG Oral Tablet'\n",
            " 'Amoxicillin 250 MG Oral Capsule' 'Acetaminophen 160 MG Oral Tablet'\n",
            " 'Acetaminophen 325 MG Oral Tablet' 'Amoxicillin 500 MG Oral Tablet'\n",
            " 'Naproxen sodium 220 MG Oral Tablet' 'Ibuprofen 200 MG Oral Tablet'\n",
            " 'Aspirin 81 MG Oral Tablet' 'Doxycycline Monohydrate 100 MG Oral Tablet'\n",
            " '12 HR Cefaclor 500 MG Extended Release Oral Tablet']\n"
          ],
          "name": "stdout"
        }
      ]
    },
    {
      "cell_type": "code",
      "metadata": {
        "id": "Od-6QfXr-dt1",
        "colab_type": "code",
        "colab": {}
      },
      "source": [
        "#create min and max for one standard dev that covers that majority of treatment\n",
        "omMax = omDF.DISPENSES.mean() + omDF.DISPENSES.std()\n",
        "omMin = omDF.DISPENSES.mean() - omDF.DISPENSES.std()"
      ],
      "execution_count": 0,
      "outputs": []
    },
    {
      "cell_type": "code",
      "metadata": {
        "id": "Puqqu86zG1S6",
        "colab_type": "code",
        "colab": {}
      },
      "source": [
        "#Function to check medication to be prescribed against current standard of care\n",
        "#Input for new data in this form: variableName = [med name, qty, diagnosis]\n",
        "\n",
        "def medCheckOM(dxList, medList, rangeMin, rangeMax):\n",
        "  newOrder = []\n",
        "  newOrder.append(input(\"Enter medication name here: \"))\n",
        "  newOrder.append(int(input(\"Enter quantity to be dispensed: \")))\n",
        "  newOrder.append(input(\"Patient's diagnosis/exam reason: \"))\n",
        "  rangeMin = int(rangeMin)\n",
        "  rangeMax = int(rangeMax)\n",
        "  if newOrder[0] in medList:\n",
        "    if newOrder[1] < rangeMax and newOrder[1] > rangeMin:\n",
        "      if newOrder[2] in dxList:\n",
        "        print(\"Valid medication and dosage quantity for %s\" % newOrder[2])\n",
        "  elif newOrder[0] not in medList:\n",
        "    print(\"Medication not normally prescribed for %s\" % newOrder[2])\n",
        "  elif newOrder[1] > rangeMax or newOrder[1] < rangeMin:\n",
        "    print(\"Medication quantity for %s normally dispensed quantity is between %d and %d \" % (newOrder[2], rangeMin, rangeMax))\n",
        "  elif newOrder[2] not in dxList:\n",
        "    print(\"Medication not normally prescribed for %s\" % newOrder[2])"
      ],
      "execution_count": 0,
      "outputs": []
    },
    {
      "cell_type": "code",
      "metadata": {
        "id": "OlEgq90rQcY8",
        "colab_type": "code",
        "colab": {
          "base_uri": "https://localhost:8080/",
          "height": 84
        },
        "outputId": "68ce2cf7-2ea5-4698-a705-d59463e1f3d0"
      },
      "source": [
        "medCheckOM(omDF.EXAM_REASON.unique(), omMedList, omMin, omMax)"
      ],
      "execution_count": 167,
      "outputs": [
        {
          "output_type": "stream",
          "text": [
            "Enter medication name here: predniSONE 5 MG Oral Tablet\n",
            "Enter quantity to be dispensed: 10\n",
            "Patient's diagnosis/exam reason: Otitis media\n",
            "Medication not normally prescribed for Otitis media\n"
          ],
          "name": "stdout"
        }
      ]
    },
    {
      "cell_type": "code",
      "metadata": {
        "id": "q6Fl7oriRdlF",
        "colab_type": "code",
        "colab": {
          "base_uri": "https://localhost:8080/",
          "height": 84
        },
        "outputId": "d3dc3db0-f338-4b26-bf17-17d49bbcaa68"
      },
      "source": [
        "medCheckOM(omDF.EXAM_REASON.unique(), omMedList, omMin, omMax)"
      ],
      "execution_count": 168,
      "outputs": [
        {
          "output_type": "stream",
          "text": [
            "Enter medication name here: Amoxicillin 250 MG Oral Capsule\n",
            "Enter quantity to be dispensed: 7\n",
            "Patient's diagnosis/exam reason: Otitis media\n",
            "Valid medication and dosage quantity for Otitis media\n"
          ],
          "name": "stdout"
        }
      ]
    },
    {
      "cell_type": "markdown",
      "metadata": {
        "id": "DWyHulN2TMTu",
        "colab_type": "text"
      },
      "source": [
        "**DISTRIBUTIONS SPECIFIC TO EAR INFECTION DATA**"
      ]
    },
    {
      "cell_type": "code",
      "metadata": {
        "id": "grv7FJl6_xGk",
        "colab_type": "code",
        "colab": {
          "base_uri": "https://localhost:8080/",
          "height": 517
        },
        "outputId": "5d9f1b3c-714f-4058-d6fb-a66fbd67977b"
      },
      "source": [
        "fig, (boxplot, histogram) = plt.subplots(2, sharex=True, figsize=(16, 8), gridspec_kw={\"height_ratios\": (.15, .85)})\n",
        "sns.boxplot(omDF.DISPENSES, ax=boxplot)\n",
        "sns.distplot(omDF.DISPENSES, ax=histogram)\n",
        "boxplot.set(xlabel='')\n",
        "plt.title('Distribution of \"Dispensed Med QTY\"', fontsize=24)\n",
        "plt.xlabel('');"
      ],
      "execution_count": 132,
      "outputs": [
        {
          "output_type": "display_data",
          "data": {
            "image/png": "[encoded data removed]",
            "text/plain": [
              "<Figure size 1152x576 with 2 Axes>"
            ]
          },
          "metadata": {
            "tags": []
          }
        }
      ]
    },
    {
      "cell_type": "code",
      "metadata": {
        "id": "-CBT_x6jE03N",
        "colab_type": "code",
        "colab": {
          "base_uri": "https://localhost:8080/",
          "height": 517
        },
        "outputId": "41e5dd5f-43c1-436f-abaa-ea4df078f1a9"
      },
      "source": [
        "fig, (boxplot, histogram) = plt.subplots(2, sharex=True, figsize=(16, 8), gridspec_kw={\"height_ratios\": (.15, .85)})\n",
        "sns.boxplot(omDF.AGE, ax=boxplot)\n",
        "sns.distplot(omDF.AGE, ax=histogram)\n",
        "boxplot.set(xlabel='')\n",
        "plt.title('Distribution of \"Age of Patient: Ear Infx\"', fontsize=24)\n",
        "plt.xlabel('');"
      ],
      "execution_count": 133,
      "outputs": [
        {
          "output_type": "display_data",
          "data": {
            "image/png": "[encoded data removed]",
            "text/plain": [
              "<Figure size 1152x576 with 2 Axes>"
            ]
          },
          "metadata": {
            "tags": []
          }
        }
      ]
    },
    {
      "cell_type": "code",
      "metadata": {
        "id": "cELzZXOiFE3i",
        "colab_type": "code",
        "colab": {
          "base_uri": "https://localhost:8080/",
          "height": 530
        },
        "outputId": "0320f5d3-9c1e-4d58-eec3-22bf5ede7e29"
      },
      "source": [
        "fig, (boxplot, histogram) = plt.subplots(2, sharex=True, figsize=(16, 8), gridspec_kw={\"height_ratios\": (.15, .85)})\n",
        "sns.boxplot(omDF.LOF, ax=boxplot)\n",
        "sns.distplot(omDF.LOF, ax=histogram)\n",
        "boxplot.set(xlabel='')\n",
        "plt.title('Distribution of \"Local Outlier Factor: Ear Infx\"', fontsize=24)\n",
        "plt.xlabel('');"
      ],
      "execution_count": 135,
      "outputs": [
        {
          "output_type": "display_data",
          "data": {
            "image/png": "[encoded data removed]",
            "text/plain": [
              "<Figure size 1152x576 with 2 Axes>"
            ]
          },
          "metadata": {
            "tags": []
          }
        }
      ]
    },
    {
      "cell_type": "code",
      "metadata": {
        "id": "y2SmMG8pFQe1",
        "colab_type": "code",
        "colab": {
          "base_uri": "https://localhost:8080/",
          "height": 517
        },
        "outputId": "8b546c82-093f-4415-9eaf-328878dd6ce6"
      },
      "source": [
        "fig, (boxplot, histogram) = plt.subplots(2, sharex=True, figsize=(16, 8), gridspec_kw={\"height_ratios\": (.15, .85)})\n",
        "sns.boxplot(omDF.CLUSTERS, ax=boxplot)\n",
        "sns.distplot(omDF.CLUSTERS, ax=histogram)\n",
        "boxplot.set(xlabel='')\n",
        "plt.title('Distribution of \"Clusters: Ear Infx\"', fontsize=24)\n",
        "plt.xlabel('');"
      ],
      "execution_count": 136,
      "outputs": [
        {
          "output_type": "display_data",
          "data": {
            "image/png": "[encoded data removed]",
            "text/plain": [
              "<Figure size 1152x576 with 2 Axes>"
            ]
          },
          "metadata": {
            "tags": []
          }
        }
      ]
    },
    {
      "cell_type": "code",
      "metadata": {
        "id": "U15kC8oFFvij",
        "colab_type": "code",
        "colab": {}
      },
      "source": [
        ""
      ],
      "execution_count": 0,
      "outputs": []
    }
  ]
}